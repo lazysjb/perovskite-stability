{
 "cells": [
  {
   "cell_type": "code",
   "execution_count": 1,
   "metadata": {},
   "outputs": [],
   "source": [
    "import os\n",
    "\n",
    "import numpy as np\n",
    "import pandas as pd\n",
    "import seaborn as sns\n",
    "import matplotlib.pyplot as plt\n",
    "import scipy.stats as stats\n",
    "\n",
    "%matplotlib inline"
   ]
  },
  {
   "cell_type": "markdown",
   "metadata": {},
   "source": [
    "# Composition Analysis\n",
    "\n",
    "The objective of this analysis is to determine whether composition impacts stability (whether compounds with similar composition have similar stability). To do this, I mainly focused on compounds with a single A compound to remove confounding effects from other A site compounds and then do the same for the B site. \n",
    "- From the analysis, the conclusion is:\n",
    "    - It is possible that including composition features may help the performance:\n",
    "        - We can model the features by:\n",
    "        1. Use the features of:\n",
    "            - 'Ba', 'Pr', 'Y', 'La', 'Sr', 'Other' on the A-site\n",
    "            - 'Fe', 'V', 'Ni', 'Mn', 'Other' on the B-site\n",
    "        2. Use the features separated by classification and regression (to use less feature variables):\n",
    "            - Classification:\n",
    "                - 'La', 'Pr', 'Y', 'Other' on the A-site\n",
    "                - 'V', 'Other' on the B-site\n",
    "            - Regression:\n",
    "                - 'Sr', 'Ba', 'Other' on the A-site\n",
    "                - 'Ni', 'Fe', 'V', 'Other' on the B-site\n",
    "        3. For classification, we may even want to include less features that captures interaction effects:\n",
    "            - Indicator feature for whether A-site includes 'Pr', 'La', 'Y'\n",
    "            - Another indicator feature for when A-site includes 'Pr' or 'Y' and B-site includes 'V'\n",
    "\n",
    "    - It is possible that the above features may not help when combined with other numerical features\n",
    "\n",
    "    - Separately, based on the performance breakdown shown by Jiaying in last meeting, I think it makes sense to stratify train test samples based on major A-site / B-site composition combinations, so that the performance is fairly measured (for ex, if model does particularly well for 'Ba' and test set contains higher proportion of 'Ba' than train, then the evaluation is probably not 'fair'"
   ]
  },
  {
   "cell_type": "code",
   "execution_count": 2,
   "metadata": {},
   "outputs": [],
   "source": [
    "FILE_PATH = '../../data/stability_paper_data/augmented sample.xlsx'"
   ]
  },
  {
   "cell_type": "code",
   "execution_count": 3,
   "metadata": {},
   "outputs": [],
   "source": [
    "df = pd.read_excel(FILE_PATH, sheet_name='Sheet1')"
   ]
  },
  {
   "cell_type": "code",
   "execution_count": 4,
   "metadata": {},
   "outputs": [
    {
     "data": {
      "text/html": [
       "<div>\n",
       "<style scoped>\n",
       "    .dataframe tbody tr th:only-of-type {\n",
       "        vertical-align: middle;\n",
       "    }\n",
       "\n",
       "    .dataframe tbody tr th {\n",
       "        vertical-align: top;\n",
       "    }\n",
       "\n",
       "    .dataframe thead th {\n",
       "        text-align: right;\n",
       "    }\n",
       "</style>\n",
       "<table border=\"1\" class=\"dataframe\">\n",
       "  <thead>\n",
       "    <tr style=\"text-align: right;\">\n",
       "      <th></th>\n",
       "      <th>index</th>\n",
       "      <th>Material Composition</th>\n",
       "      <th>goldschmidt_TF</th>\n",
       "      <th>goldschmidt_TF_ionic</th>\n",
       "      <th>octahedral_factor</th>\n",
       "      <th>octahedral_factor_ionic</th>\n",
       "      <th>A_O</th>\n",
       "      <th>B_O</th>\n",
       "      <th>A_B</th>\n",
       "      <th>num_of_atoms_host_Asite0</th>\n",
       "      <th>...</th>\n",
       "      <th>Bsite_NdValence_range</th>\n",
       "      <th>Bsite_NfUnfilled_range</th>\n",
       "      <th>Bsite_NfValence_range</th>\n",
       "      <th>Bsite_NpUnfilled_range</th>\n",
       "      <th>Bsite_NpValence_range</th>\n",
       "      <th>Bsite_NsUnfilled_range</th>\n",
       "      <th>Bsite_NsValence_range</th>\n",
       "      <th>Bsite_NUnfilled_range</th>\n",
       "      <th>EnergyAboveHull</th>\n",
       "      <th>Formation_energy</th>\n",
       "    </tr>\n",
       "  </thead>\n",
       "  <tbody>\n",
       "    <tr>\n",
       "      <th>0</th>\n",
       "      <td>1</td>\n",
       "      <td>Ba1Sr7V8O24</td>\n",
       "      <td>1.021823</td>\n",
       "      <td>0.976828</td>\n",
       "      <td>0.414286</td>\n",
       "      <td>0.385714</td>\n",
       "      <td>2.86125</td>\n",
       "      <td>1.98000</td>\n",
       "      <td>2.04125</td>\n",
       "      <td>1</td>\n",
       "      <td>...</td>\n",
       "      <td>0</td>\n",
       "      <td>0</td>\n",
       "      <td>0</td>\n",
       "      <td>0</td>\n",
       "      <td>0</td>\n",
       "      <td>0</td>\n",
       "      <td>0</td>\n",
       "      <td>0</td>\n",
       "      <td>29.747707</td>\n",
       "      <td>-2.113335</td>\n",
       "    </tr>\n",
       "    <tr>\n",
       "      <th>1</th>\n",
       "      <td>2</td>\n",
       "      <td>Ba2Bi2Pr4Co8O24</td>\n",
       "      <td>0.987385</td>\n",
       "      <td>0.889057</td>\n",
       "      <td>0.378571</td>\n",
       "      <td>0.464286</td>\n",
       "      <td>2.69500</td>\n",
       "      <td>1.93000</td>\n",
       "      <td>1.82500</td>\n",
       "      <td>2</td>\n",
       "      <td>...</td>\n",
       "      <td>0</td>\n",
       "      <td>0</td>\n",
       "      <td>0</td>\n",
       "      <td>0</td>\n",
       "      <td>0</td>\n",
       "      <td>0</td>\n",
       "      <td>0</td>\n",
       "      <td>0</td>\n",
       "      <td>106.702335</td>\n",
       "      <td>-1.311863</td>\n",
       "    </tr>\n",
       "    <tr>\n",
       "      <th>2</th>\n",
       "      <td>3</td>\n",
       "      <td>Ba2Ca6Fe8O24</td>\n",
       "      <td>0.976009</td>\n",
       "      <td>0.908360</td>\n",
       "      <td>0.452857</td>\n",
       "      <td>0.392857</td>\n",
       "      <td>2.80750</td>\n",
       "      <td>2.03400</td>\n",
       "      <td>2.04150</td>\n",
       "      <td>2</td>\n",
       "      <td>...</td>\n",
       "      <td>0</td>\n",
       "      <td>0</td>\n",
       "      <td>0</td>\n",
       "      <td>0</td>\n",
       "      <td>0</td>\n",
       "      <td>0</td>\n",
       "      <td>0</td>\n",
       "      <td>0</td>\n",
       "      <td>171.608093</td>\n",
       "      <td>-1.435607</td>\n",
       "    </tr>\n",
       "    <tr>\n",
       "      <th>3</th>\n",
       "      <td>4</td>\n",
       "      <td>Ba2Cd2Pr4Ni8O24</td>\n",
       "      <td>1.026809</td>\n",
       "      <td>0.865275</td>\n",
       "      <td>0.342857</td>\n",
       "      <td>0.492857</td>\n",
       "      <td>2.73000</td>\n",
       "      <td>1.88000</td>\n",
       "      <td>1.81000</td>\n",
       "      <td>2</td>\n",
       "      <td>...</td>\n",
       "      <td>0</td>\n",
       "      <td>0</td>\n",
       "      <td>0</td>\n",
       "      <td>0</td>\n",
       "      <td>0</td>\n",
       "      <td>0</td>\n",
       "      <td>0</td>\n",
       "      <td>0</td>\n",
       "      <td>284.898190</td>\n",
       "      <td>-0.868639</td>\n",
       "    </tr>\n",
       "    <tr>\n",
       "      <th>4</th>\n",
       "      <td>5</td>\n",
       "      <td>Ba2Dy6Fe8O24</td>\n",
       "      <td>0.909001</td>\n",
       "      <td>0.916519</td>\n",
       "      <td>0.452857</td>\n",
       "      <td>0.392857</td>\n",
       "      <td>2.61475</td>\n",
       "      <td>2.03400</td>\n",
       "      <td>1.84875</td>\n",
       "      <td>2</td>\n",
       "      <td>...</td>\n",
       "      <td>0</td>\n",
       "      <td>0</td>\n",
       "      <td>0</td>\n",
       "      <td>0</td>\n",
       "      <td>0</td>\n",
       "      <td>0</td>\n",
       "      <td>0</td>\n",
       "      <td>0</td>\n",
       "      <td>270.007913</td>\n",
       "      <td>-1.746806</td>\n",
       "    </tr>\n",
       "    <tr>\n",
       "      <th>...</th>\n",
       "      <td>...</td>\n",
       "      <td>...</td>\n",
       "      <td>...</td>\n",
       "      <td>...</td>\n",
       "      <td>...</td>\n",
       "      <td>...</td>\n",
       "      <td>...</td>\n",
       "      <td>...</td>\n",
       "      <td>...</td>\n",
       "      <td>...</td>\n",
       "      <td>...</td>\n",
       "      <td>...</td>\n",
       "      <td>...</td>\n",
       "      <td>...</td>\n",
       "      <td>...</td>\n",
       "      <td>...</td>\n",
       "      <td>...</td>\n",
       "      <td>...</td>\n",
       "      <td>...</td>\n",
       "      <td>...</td>\n",
       "      <td>...</td>\n",
       "    </tr>\n",
       "    <tr>\n",
       "      <th>2133</th>\n",
       "      <td>2134</td>\n",
       "      <td>Sr8Nb1Co7O24</td>\n",
       "      <td>1.030498</td>\n",
       "      <td>0.918074</td>\n",
       "      <td>0.391964</td>\n",
       "      <td>0.463393</td>\n",
       "      <td>2.84000</td>\n",
       "      <td>1.94875</td>\n",
       "      <td>1.98875</td>\n",
       "      <td>8</td>\n",
       "      <td>...</td>\n",
       "      <td>3</td>\n",
       "      <td>0</td>\n",
       "      <td>0</td>\n",
       "      <td>0</td>\n",
       "      <td>0</td>\n",
       "      <td>1</td>\n",
       "      <td>1</td>\n",
       "      <td>4</td>\n",
       "      <td>54.915236</td>\n",
       "      <td>-1.449677</td>\n",
       "    </tr>\n",
       "    <tr>\n",
       "      <th>2134</th>\n",
       "      <td>2135</td>\n",
       "      <td>Sr8Nb2Co6O24</td>\n",
       "      <td>1.020678</td>\n",
       "      <td>0.918634</td>\n",
       "      <td>0.405357</td>\n",
       "      <td>0.462500</td>\n",
       "      <td>2.84000</td>\n",
       "      <td>1.96750</td>\n",
       "      <td>2.00750</td>\n",
       "      <td>8</td>\n",
       "      <td>...</td>\n",
       "      <td>3</td>\n",
       "      <td>0</td>\n",
       "      <td>0</td>\n",
       "      <td>0</td>\n",
       "      <td>0</td>\n",
       "      <td>1</td>\n",
       "      <td>1</td>\n",
       "      <td>4</td>\n",
       "      <td>33.280498</td>\n",
       "      <td>-1.651437</td>\n",
       "    </tr>\n",
       "    <tr>\n",
       "      <th>2135</th>\n",
       "      <td>2136</td>\n",
       "      <td>Sr8Nb4Co4O24</td>\n",
       "      <td>1.001588</td>\n",
       "      <td>0.919757</td>\n",
       "      <td>0.432143</td>\n",
       "      <td>0.460714</td>\n",
       "      <td>2.84000</td>\n",
       "      <td>2.00500</td>\n",
       "      <td>2.04500</td>\n",
       "      <td>8</td>\n",
       "      <td>...</td>\n",
       "      <td>3</td>\n",
       "      <td>0</td>\n",
       "      <td>0</td>\n",
       "      <td>0</td>\n",
       "      <td>0</td>\n",
       "      <td>1</td>\n",
       "      <td>1</td>\n",
       "      <td>4</td>\n",
       "      <td>0.000000</td>\n",
       "      <td>-2.048177</td>\n",
       "    </tr>\n",
       "    <tr>\n",
       "      <th>2136</th>\n",
       "      <td>2137</td>\n",
       "      <td>Sr8Nb6Co2O24</td>\n",
       "      <td>0.983199</td>\n",
       "      <td>0.920883</td>\n",
       "      <td>0.458929</td>\n",
       "      <td>0.458929</td>\n",
       "      <td>2.84000</td>\n",
       "      <td>2.04250</td>\n",
       "      <td>2.08250</td>\n",
       "      <td>8</td>\n",
       "      <td>...</td>\n",
       "      <td>3</td>\n",
       "      <td>0</td>\n",
       "      <td>0</td>\n",
       "      <td>0</td>\n",
       "      <td>0</td>\n",
       "      <td>1</td>\n",
       "      <td>1</td>\n",
       "      <td>4</td>\n",
       "      <td>30.771125</td>\n",
       "      <td>-2.314135</td>\n",
       "    </tr>\n",
       "    <tr>\n",
       "      <th>2137</th>\n",
       "      <td>2138</td>\n",
       "      <td>Sr8Nb7Co1O24</td>\n",
       "      <td>0.974255</td>\n",
       "      <td>0.921447</td>\n",
       "      <td>0.472321</td>\n",
       "      <td>0.458036</td>\n",
       "      <td>2.84000</td>\n",
       "      <td>2.06125</td>\n",
       "      <td>2.10125</td>\n",
       "      <td>8</td>\n",
       "      <td>...</td>\n",
       "      <td>3</td>\n",
       "      <td>0</td>\n",
       "      <td>0</td>\n",
       "      <td>0</td>\n",
       "      <td>0</td>\n",
       "      <td>1</td>\n",
       "      <td>1</td>\n",
       "      <td>4</td>\n",
       "      <td>29.887061</td>\n",
       "      <td>-2.373957</td>\n",
       "    </tr>\n",
       "  </tbody>\n",
       "</table>\n",
       "<p>2138 rows × 966 columns</p>\n",
       "</div>"
      ],
      "text/plain": [
       "      index Material Composition  goldschmidt_TF  goldschmidt_TF_ionic  \\\n",
       "0         1          Ba1Sr7V8O24        1.021823              0.976828   \n",
       "1         2      Ba2Bi2Pr4Co8O24        0.987385              0.889057   \n",
       "2         3         Ba2Ca6Fe8O24        0.976009              0.908360   \n",
       "3         4      Ba2Cd2Pr4Ni8O24        1.026809              0.865275   \n",
       "4         5         Ba2Dy6Fe8O24        0.909001              0.916519   \n",
       "...     ...                  ...             ...                   ...   \n",
       "2133   2134         Sr8Nb1Co7O24        1.030498              0.918074   \n",
       "2134   2135         Sr8Nb2Co6O24        1.020678              0.918634   \n",
       "2135   2136         Sr8Nb4Co4O24        1.001588              0.919757   \n",
       "2136   2137         Sr8Nb6Co2O24        0.983199              0.920883   \n",
       "2137   2138         Sr8Nb7Co1O24        0.974255              0.921447   \n",
       "\n",
       "      octahedral_factor  octahedral_factor_ionic      A_O      B_O      A_B  \\\n",
       "0              0.414286                 0.385714  2.86125  1.98000  2.04125   \n",
       "1              0.378571                 0.464286  2.69500  1.93000  1.82500   \n",
       "2              0.452857                 0.392857  2.80750  2.03400  2.04150   \n",
       "3              0.342857                 0.492857  2.73000  1.88000  1.81000   \n",
       "4              0.452857                 0.392857  2.61475  2.03400  1.84875   \n",
       "...                 ...                      ...      ...      ...      ...   \n",
       "2133           0.391964                 0.463393  2.84000  1.94875  1.98875   \n",
       "2134           0.405357                 0.462500  2.84000  1.96750  2.00750   \n",
       "2135           0.432143                 0.460714  2.84000  2.00500  2.04500   \n",
       "2136           0.458929                 0.458929  2.84000  2.04250  2.08250   \n",
       "2137           0.472321                 0.458036  2.84000  2.06125  2.10125   \n",
       "\n",
       "      num_of_atoms_host_Asite0  ...  Bsite_NdValence_range  \\\n",
       "0                            1  ...                      0   \n",
       "1                            2  ...                      0   \n",
       "2                            2  ...                      0   \n",
       "3                            2  ...                      0   \n",
       "4                            2  ...                      0   \n",
       "...                        ...  ...                    ...   \n",
       "2133                         8  ...                      3   \n",
       "2134                         8  ...                      3   \n",
       "2135                         8  ...                      3   \n",
       "2136                         8  ...                      3   \n",
       "2137                         8  ...                      3   \n",
       "\n",
       "      Bsite_NfUnfilled_range  Bsite_NfValence_range  Bsite_NpUnfilled_range  \\\n",
       "0                          0                      0                       0   \n",
       "1                          0                      0                       0   \n",
       "2                          0                      0                       0   \n",
       "3                          0                      0                       0   \n",
       "4                          0                      0                       0   \n",
       "...                      ...                    ...                     ...   \n",
       "2133                       0                      0                       0   \n",
       "2134                       0                      0                       0   \n",
       "2135                       0                      0                       0   \n",
       "2136                       0                      0                       0   \n",
       "2137                       0                      0                       0   \n",
       "\n",
       "      Bsite_NpValence_range  Bsite_NsUnfilled_range  Bsite_NsValence_range  \\\n",
       "0                         0                       0                      0   \n",
       "1                         0                       0                      0   \n",
       "2                         0                       0                      0   \n",
       "3                         0                       0                      0   \n",
       "4                         0                       0                      0   \n",
       "...                     ...                     ...                    ...   \n",
       "2133                      0                       1                      1   \n",
       "2134                      0                       1                      1   \n",
       "2135                      0                       1                      1   \n",
       "2136                      0                       1                      1   \n",
       "2137                      0                       1                      1   \n",
       "\n",
       "      Bsite_NUnfilled_range  EnergyAboveHull  Formation_energy  \n",
       "0                         0        29.747707         -2.113335  \n",
       "1                         0       106.702335         -1.311863  \n",
       "2                         0       171.608093         -1.435607  \n",
       "3                         0       284.898190         -0.868639  \n",
       "4                         0       270.007913         -1.746806  \n",
       "...                     ...              ...               ...  \n",
       "2133                      4        54.915236         -1.449677  \n",
       "2134                      4        33.280498         -1.651437  \n",
       "2135                      4         0.000000         -2.048177  \n",
       "2136                      4        30.771125         -2.314135  \n",
       "2137                      4        29.887061         -2.373957  \n",
       "\n",
       "[2138 rows x 966 columns]"
      ]
     },
     "execution_count": 4,
     "metadata": {},
     "output_type": "execute_result"
    }
   ],
   "source": [
    "df"
   ]
  },
  {
   "cell_type": "code",
   "execution_count": 5,
   "metadata": {},
   "outputs": [],
   "source": [
    "A_SITE_COLUMNS = [\n",
    "    'A site #1',\n",
    "    'A site #2',\n",
    "    'A site #3',\n",
    "]\n",
    "\n",
    "B_SITE_COLUMNS = [\n",
    "    'B site #1',\n",
    "    'B site #2',\n",
    "    'B site #3',\n",
    "]\n",
    "\n",
    "TARGET_COLUMN = 'energy_above_hull (meV/atom)'"
   ]
  },
  {
   "cell_type": "code",
   "execution_count": 6,
   "metadata": {},
   "outputs": [],
   "source": [
    "orig_composition_df = pd.read_excel(\n",
    "    '../../data/stability_paper_data/full_features.xlsx', sheet_name='DFT Calculated Dataset')"
   ]
  },
  {
   "cell_type": "code",
   "execution_count": 31,
   "metadata": {},
   "outputs": [],
   "source": [
    "a_site_elements = orig_composition_df[A_SITE_COLUMNS].fillna('null').values.flatten()\n",
    "a_site_elements = np.unique(a_site_elements[a_site_elements != 'null'])\n",
    "\n",
    "b_site_elements = orig_composition_df[B_SITE_COLUMNS].fillna('null').values.flatten()\n",
    "b_site_elements = np.unique(b_site_elements[b_site_elements != 'null'])"
   ]
  },
  {
   "cell_type": "code",
   "execution_count": 41,
   "metadata": {},
   "outputs": [],
   "source": [
    "temp = orig_composition_df[A_SITE_COLUMNS]"
   ]
  },
  {
   "cell_type": "code",
   "execution_count": 44,
   "metadata": {},
   "outputs": [
    {
     "data": {
      "text/plain": [
       "(1929, 3)"
      ]
     },
     "execution_count": 44,
     "metadata": {},
     "output_type": "execute_result"
    }
   ],
   "source": [
    "temp.shape"
   ]
  },
  {
   "cell_type": "code",
   "execution_count": 45,
   "metadata": {},
   "outputs": [
    {
     "data": {
      "text/plain": [
       "5787"
      ]
     },
     "execution_count": 45,
     "metadata": {},
     "output_type": "execute_result"
    }
   ],
   "source": [
    "1929 * 3"
   ]
  },
  {
   "cell_type": "code",
   "execution_count": 47,
   "metadata": {},
   "outputs": [
    {
     "data": {
      "text/plain": [
       "Ba    598\n",
       "Sr    466\n",
       "Pr    440\n",
       "La    422\n",
       "Y     390\n",
       "Ca    279\n",
       "Zn    160\n",
       "Sm     64\n",
       "Gd     63\n",
       "Dy     62\n",
       "Ho     62\n",
       "Nd     61\n",
       "Bi     15\n",
       "Cd     15\n",
       "Sn     15\n",
       "Mg      8\n",
       "Ce      3\n",
       "Er      1\n",
       "Name: value, dtype: int64"
      ]
     },
     "execution_count": 47,
     "metadata": {},
     "output_type": "execute_result"
    }
   ],
   "source": [
    "pd.melt(temp)['value'].value_counts()"
   ]
  },
  {
   "cell_type": "code",
   "execution_count": 34,
   "metadata": {},
   "outputs": [
    {
     "data": {
      "text/plain": [
       "array(['Mg', 'Sn', 'Y', 'Zn'], dtype=object)"
      ]
     },
     "execution_count": 34,
     "metadata": {},
     "output_type": "execute_result"
    }
   ],
   "source": [
    "np.intersect1d(a_site_elements, b_site_elements)"
   ]
  },
  {
   "cell_type": "code",
   "execution_count": 37,
   "metadata": {},
   "outputs": [
    {
     "data": {
      "text/html": [
       "<div>\n",
       "<style scoped>\n",
       "    .dataframe tbody tr th:only-of-type {\n",
       "        vertical-align: middle;\n",
       "    }\n",
       "\n",
       "    .dataframe tbody tr th {\n",
       "        vertical-align: top;\n",
       "    }\n",
       "\n",
       "    .dataframe thead th {\n",
       "        text-align: right;\n",
       "    }\n",
       "</style>\n",
       "<table border=\"1\" class=\"dataframe\">\n",
       "  <thead>\n",
       "    <tr style=\"text-align: right;\">\n",
       "      <th></th>\n",
       "      <th>Material Composition</th>\n",
       "      <th>A site #1</th>\n",
       "      <th>A site #2</th>\n",
       "      <th>A site #3</th>\n",
       "      <th>B site #1</th>\n",
       "      <th>B site #2</th>\n",
       "      <th>B site #3</th>\n",
       "      <th>X site</th>\n",
       "      <th>Number of elements</th>\n",
       "      <th>energy_above_hull (meV/atom)</th>\n",
       "      <th>formation_energy (eV/atom)</th>\n",
       "    </tr>\n",
       "  </thead>\n",
       "  <tbody>\n",
       "    <tr>\n",
       "      <th>437</th>\n",
       "      <td>Ba8Y1Fe7O24</td>\n",
       "      <td>Ba</td>\n",
       "      <td>NaN</td>\n",
       "      <td>NaN</td>\n",
       "      <td>Y</td>\n",
       "      <td>Fe</td>\n",
       "      <td>NaN</td>\n",
       "      <td>O</td>\n",
       "      <td>4</td>\n",
       "      <td>73.802314</td>\n",
       "      <td>-1.554716</td>\n",
       "    </tr>\n",
       "    <tr>\n",
       "      <th>438</th>\n",
       "      <td>Ba8Y2Fe6O24</td>\n",
       "      <td>Ba</td>\n",
       "      <td>NaN</td>\n",
       "      <td>NaN</td>\n",
       "      <td>Y</td>\n",
       "      <td>Fe</td>\n",
       "      <td>NaN</td>\n",
       "      <td>O</td>\n",
       "      <td>4</td>\n",
       "      <td>63.151297</td>\n",
       "      <td>-1.691099</td>\n",
       "    </tr>\n",
       "    <tr>\n",
       "      <th>439</th>\n",
       "      <td>Ba8Y4Fe4O24</td>\n",
       "      <td>Ba</td>\n",
       "      <td>NaN</td>\n",
       "      <td>NaN</td>\n",
       "      <td>Y</td>\n",
       "      <td>Fe</td>\n",
       "      <td>NaN</td>\n",
       "      <td>O</td>\n",
       "      <td>4</td>\n",
       "      <td>64.504961</td>\n",
       "      <td>-1.941074</td>\n",
       "    </tr>\n",
       "    <tr>\n",
       "      <th>440</th>\n",
       "      <td>Ba8Y8O24</td>\n",
       "      <td>Ba</td>\n",
       "      <td>NaN</td>\n",
       "      <td>NaN</td>\n",
       "      <td>Y</td>\n",
       "      <td>NaN</td>\n",
       "      <td>NaN</td>\n",
       "      <td>O</td>\n",
       "      <td>3</td>\n",
       "      <td>141.664751</td>\n",
       "      <td>-2.338811</td>\n",
       "    </tr>\n",
       "    <tr>\n",
       "      <th>1665</th>\n",
       "      <td>Sr8Y1V7O24</td>\n",
       "      <td>Sr</td>\n",
       "      <td>NaN</td>\n",
       "      <td>NaN</td>\n",
       "      <td>Y</td>\n",
       "      <td>V</td>\n",
       "      <td>NaN</td>\n",
       "      <td>O</td>\n",
       "      <td>4</td>\n",
       "      <td>64.140924</td>\n",
       "      <td>-2.172679</td>\n",
       "    </tr>\n",
       "    <tr>\n",
       "      <th>1666</th>\n",
       "      <td>Sr8Y2V6O24</td>\n",
       "      <td>Sr</td>\n",
       "      <td>NaN</td>\n",
       "      <td>NaN</td>\n",
       "      <td>Y</td>\n",
       "      <td>V</td>\n",
       "      <td>NaN</td>\n",
       "      <td>O</td>\n",
       "      <td>4</td>\n",
       "      <td>93.842303</td>\n",
       "      <td>-2.231961</td>\n",
       "    </tr>\n",
       "    <tr>\n",
       "      <th>1667</th>\n",
       "      <td>Sr8Y4V4O24</td>\n",
       "      <td>Sr</td>\n",
       "      <td>NaN</td>\n",
       "      <td>NaN</td>\n",
       "      <td>Y</td>\n",
       "      <td>V</td>\n",
       "      <td>NaN</td>\n",
       "      <td>O</td>\n",
       "      <td>4</td>\n",
       "      <td>112.174952</td>\n",
       "      <td>-2.378805</td>\n",
       "    </tr>\n",
       "  </tbody>\n",
       "</table>\n",
       "</div>"
      ],
      "text/plain": [
       "     Material Composition A site #1 A site #2 A site #3 B site #1 B site #2  \\\n",
       "437           Ba8Y1Fe7O24        Ba       NaN       NaN         Y        Fe   \n",
       "438           Ba8Y2Fe6O24        Ba       NaN       NaN         Y        Fe   \n",
       "439           Ba8Y4Fe4O24        Ba       NaN       NaN         Y        Fe   \n",
       "440              Ba8Y8O24        Ba       NaN       NaN         Y       NaN   \n",
       "1665           Sr8Y1V7O24        Sr       NaN       NaN         Y         V   \n",
       "1666           Sr8Y2V6O24        Sr       NaN       NaN         Y         V   \n",
       "1667           Sr8Y4V4O24        Sr       NaN       NaN         Y         V   \n",
       "\n",
       "     B site #3 X site  Number of elements  energy_above_hull (meV/atom)  \\\n",
       "437        NaN      O                   4                     73.802314   \n",
       "438        NaN      O                   4                     63.151297   \n",
       "439        NaN      O                   4                     64.504961   \n",
       "440        NaN      O                   3                    141.664751   \n",
       "1665       NaN      O                   4                     64.140924   \n",
       "1666       NaN      O                   4                     93.842303   \n",
       "1667       NaN      O                   4                    112.174952   \n",
       "\n",
       "      formation_energy (eV/atom)  \n",
       "437                    -1.554716  \n",
       "438                    -1.691099  \n",
       "439                    -1.941074  \n",
       "440                    -2.338811  \n",
       "1665                   -2.172679  \n",
       "1666                   -2.231961  \n",
       "1667                   -2.378805  "
      ]
     },
     "execution_count": 37,
     "metadata": {},
     "output_type": "execute_result"
    }
   ],
   "source": [
    "orig_composition_df[orig_composition_df['B site #1'] == 'Y']"
   ]
  },
  {
   "cell_type": "code",
   "execution_count": 32,
   "metadata": {},
   "outputs": [
    {
     "data": {
      "text/plain": [
       "array(['Ba', 'Bi', 'Ca', 'Cd', 'Ce', 'Dy', 'Er', 'Gd', 'Ho', 'La', 'Mg',\n",
       "       'Nd', 'Pr', 'Sm', 'Sn', 'Sr', 'Y', 'Zn'], dtype=object)"
      ]
     },
     "execution_count": 32,
     "metadata": {},
     "output_type": "execute_result"
    }
   ],
   "source": [
    "a_site_elements"
   ]
  },
  {
   "cell_type": "code",
   "execution_count": 33,
   "metadata": {},
   "outputs": [
    {
     "data": {
      "text/plain": [
       "array(['Al', 'Co', 'Cr', 'Cu', 'Fe', 'Ga', 'Ge', 'Hf', 'Ir', 'Mg', 'Mn',\n",
       "       'Mo', 'Nb', 'Ni', 'Os', 'Pd', 'Pt', 'Re', 'Rh', 'Ru', 'Sc', 'Si',\n",
       "       'Sn', 'Ta', 'Tc', 'Ti', 'V', 'W', 'Y', 'Zn', 'Zr'], dtype=object)"
      ]
     },
     "execution_count": 33,
     "metadata": {},
     "output_type": "execute_result"
    }
   ],
   "source": [
    "b_site_elements"
   ]
  },
  {
   "cell_type": "code",
   "execution_count": null,
   "metadata": {},
   "outputs": [],
   "source": []
  },
  {
   "cell_type": "code",
   "execution_count": null,
   "metadata": {},
   "outputs": [],
   "source": [
    "composition_df = pd.read_excel(FILE_PATH, sheet_name='Sheet1')\n",
    "composition_df['y_clf'] = (composition_df['energy_above_hull (meV/atom)'] <= 40).astype(int)"
   ]
  },
  {
   "cell_type": "code",
   "execution_count": null,
   "metadata": {},
   "outputs": [],
   "source": [
    "# a1_df are those with single A site\n",
    "# b1_df are those with single B site\n",
    "\n",
    "a1_mask = composition_df[A_SITE_COLUMNS].isna().sum(axis=1) == 2\n",
    "b1_mask = composition_df[B_SITE_COLUMNS].isna().sum(axis=1) == 2\n",
    "\n",
    "a1_df = composition_df[a1_mask].copy()\n",
    "b1_df = composition_df[b1_mask].copy()"
   ]
  },
  {
   "cell_type": "code",
   "execution_count": null,
   "metadata": {},
   "outputs": [],
   "source": [
    "a1_df['A site #1'].value_counts(normalize=True).round(3).head(10)"
   ]
  },
  {
   "cell_type": "code",
   "execution_count": null,
   "metadata": {},
   "outputs": [],
   "source": [
    "b1_df['B site #1'].value_counts(normalize=True).round(3).head(10)"
   ]
  },
  {
   "cell_type": "code",
   "execution_count": null,
   "metadata": {},
   "outputs": [],
   "source": [
    "top_asite_compounds = a1_df['A site #1'].value_counts().head(5).index.values\n",
    "sub_df_a = a1_df[a1_df['A site #1'].isin(top_asite_compounds)]\n",
    "\n",
    "top_bsite_compounds = b1_df['B site #1'].value_counts().head(5).index.values\n",
    "sub_df_b = b1_df[b1_df['B site #1'].isin(top_bsite_compounds)]"
   ]
  },
  {
   "cell_type": "code",
   "execution_count": null,
   "metadata": {},
   "outputs": [],
   "source": [
    "print('Top A Site compounds for study:', top_asite_compounds)\n",
    "print('Top B Site compounds for study:', top_bsite_compounds)"
   ]
  },
  {
   "cell_type": "markdown",
   "metadata": {},
   "source": [
    "## 1. Conclusion from Stats\n",
    "- A site compounds with La, Pr, Y, are more likely to have stable behavior than Ba, Sr \n",
    "- B site compounds with V are more likely to have stable behavior than others\n",
    "- B site compounds with Ni, Fe tend to have particularly unstable behavior\n",
    "- Judging from the F-stat p-value at 5% significance (to see if each compound is a significant separator among those that contain the compound and those that don't contain), I would separate those as:\n",
    "    - 'Ba', 'Pr', 'Y', 'La', 'Sr', 'Other' on the A-site\n",
    "    - 'Fe', 'V', 'Ni', 'Mn', 'Other' on the B-site"
   ]
  },
  {
   "cell_type": "code",
   "execution_count": null,
   "metadata": {},
   "outputs": [],
   "source": [
    "fig, ax = plt.subplots(figsize=(12, 6))\n",
    "\n",
    "sns.boxplot(data=sub_df_a, \n",
    "            x='A site #1', \n",
    "            y='energy_above_hull (meV/atom)',\n",
    "            ax=ax)\n",
    "\n",
    "plt.show()"
   ]
  },
  {
   "cell_type": "code",
   "execution_count": null,
   "metadata": {},
   "outputs": [],
   "source": [
    "sub_df_a.groupby('A site #1')[TARGET_COLUMN].agg(['mean', 'std']).round(1)"
   ]
  },
  {
   "cell_type": "code",
   "execution_count": null,
   "metadata": {},
   "outputs": [],
   "source": [
    "fig, ax = plt.subplots(figsize=(12, 6))\n",
    "\n",
    "sns.boxplot(data=sub_df_b, \n",
    "            x='B site #1', \n",
    "            y='energy_above_hull (meV/atom)',\n",
    "            ax=ax)\n",
    "\n",
    "plt.show()"
   ]
  },
  {
   "cell_type": "code",
   "execution_count": null,
   "metadata": {},
   "outputs": [],
   "source": [
    "sub_df_b.groupby('B site #1')[TARGET_COLUMN].agg(['mean', 'std']).round(1)"
   ]
  },
  {
   "cell_type": "code",
   "execution_count": null,
   "metadata": {},
   "outputs": [],
   "source": [
    "f_stat_result = []\n",
    "\n",
    "for compound in top_asite_compounds:\n",
    "    group1 = sub_df_a[sub_df_a['A site #1'] == compound][TARGET_COLUMN].values\n",
    "    group2 = sub_df_a[sub_df_a['A site #1'] != compound][TARGET_COLUMN].values\n",
    "    \n",
    "    anova_result = stats.f_oneway(group1, group2)\n",
    "    \n",
    "    f_stat_result.append({'compound': compound, 'pval': anova_result.pvalue})\n",
    "    \n",
    "f_stat_df = pd.DataFrame(f_stat_result).sort_values('pval')"
   ]
  },
  {
   "cell_type": "code",
   "execution_count": null,
   "metadata": {},
   "outputs": [],
   "source": [
    "f_stat_df.round(8)"
   ]
  },
  {
   "cell_type": "code",
   "execution_count": null,
   "metadata": {},
   "outputs": [],
   "source": [
    "f_stat_result = []\n",
    "\n",
    "for compound in top_bsite_compounds:\n",
    "    group1 = sub_df_b[sub_df_b['B site #1'] == compound][TARGET_COLUMN].values\n",
    "    group2 = sub_df_b[sub_df_b['B site #1'] != compound][TARGET_COLUMN].values\n",
    "    \n",
    "    anova_result = stats.f_oneway(group1, group2)\n",
    "    \n",
    "    f_stat_result.append({'compound': compound, 'pval': anova_result.pvalue})\n",
    "    \n",
    "f_stat_df = pd.DataFrame(f_stat_result).sort_values('pval')"
   ]
  },
  {
   "cell_type": "code",
   "execution_count": null,
   "metadata": {},
   "outputs": [],
   "source": [
    "f_stat_df.round(8)"
   ]
  },
  {
   "cell_type": "code",
   "execution_count": null,
   "metadata": {},
   "outputs": [],
   "source": []
  },
  {
   "cell_type": "markdown",
   "metadata": {},
   "source": [
    "## 2. Decision Trees to See Which Features Give the Greatest Separation in Predicting the Target\n",
    "- Features that give better classification are different for Regression vs. Classification\n",
    "    - Classification\n",
    "        - 'La', 'Pr', 'Y' are particularly important features from A site to determine whether stable or not\n",
    "        - 'V', 'Other' are particularly important features from B site to determine whether stable or not\n",
    "    - Regression\n",
    "        - 'Other', 'Sr', 'Ba' are particularly important features from A site for regression\n",
    "        - 'Ni', 'Fe', 'V' are particularly important features from B site for regression"
   ]
  },
  {
   "cell_type": "code",
   "execution_count": null,
   "metadata": {},
   "outputs": [],
   "source": [
    "from sklearn.tree import (\n",
    "    DecisionTreeRegressor, DecisionTreeClassifier,\n",
    "    plot_tree\n",
    ")"
   ]
  },
  {
   "cell_type": "code",
   "execution_count": null,
   "metadata": {},
   "outputs": [],
   "source": [
    "A_SITE_COMPOUND_MAP = {\n",
    "    'Ba': 'Ba', \n",
    "    'Pr': 'Pr', \n",
    "    'Y': 'Y', \n",
    "    'La': 'La', \n",
    "    'Sr': 'Sr', \n",
    "}\n",
    "\n",
    "B_SITE_COMPOUND_MAP = {\n",
    "    'Fe': 'Fe', \n",
    "    'V': 'V', \n",
    "    'Ni': 'Ni', \n",
    "    'Mn': 'Mn',\n",
    "}"
   ]
  },
  {
   "cell_type": "code",
   "execution_count": null,
   "metadata": {},
   "outputs": [],
   "source": [
    "def get_feature_importance(model, feature_names):\n",
    "    importance_df = pd.DataFrame({'feature': feature_names,\n",
    "                                  'importance': model.feature_importances_,}).sort_values(\n",
    "        'importance', ascending=False).round(2)\n",
    "    return importance_df"
   ]
  },
  {
   "cell_type": "code",
   "execution_count": null,
   "metadata": {},
   "outputs": [],
   "source": [
    "a1_df_copy = a1_df.copy()\n",
    "a1_df_copy['A site #1'] = a1_df_copy['A site #1'].map(A_SITE_COMPOUND_MAP).fillna('Other')\n",
    "a1_X = a1_df_copy['A site #1']\n",
    "a1_y = a1_df_copy[TARGET_COLUMN]\n",
    "a1_y_clf = a1_df_copy['y_clf']\n",
    "a1_X = pd.get_dummies(a1_X, drop_first=False)"
   ]
  },
  {
   "cell_type": "code",
   "execution_count": null,
   "metadata": {},
   "outputs": [],
   "source": [
    "b1_df_copy = b1_df.copy()\n",
    "b1_df_copy['B site #1'] = b1_df_copy['B site #1'].map(B_SITE_COMPOUND_MAP).fillna('Other')\n",
    "b1_X = b1_df_copy['B site #1']\n",
    "b1_y = b1_df_copy[TARGET_COLUMN]\n",
    "b1_y_clf = b1_df_copy['y_clf']\n",
    "b1_X = pd.get_dummies(b1_X, drop_first=False)"
   ]
  },
  {
   "cell_type": "code",
   "execution_count": null,
   "metadata": {},
   "outputs": [],
   "source": [
    "clf = DecisionTreeClassifier(max_depth=5,\n",
    "                             min_samples_split=5,\n",
    "                             min_samples_leaf=5)\n",
    "\n",
    "clf.fit(a1_X, a1_y_clf)\n",
    "\n",
    "fig, ax = plt.subplots(figsize=(8, 8))\n",
    "\n",
    "plot_tree(clf, \n",
    "          filled=True, \n",
    "          feature_names=a1_X.columns,\n",
    "          ax=ax)\n",
    "plt.title('Decision Tree Classifier for A Site')\n",
    "plt.show()"
   ]
  },
  {
   "cell_type": "code",
   "execution_count": null,
   "metadata": {},
   "outputs": [],
   "source": [
    "get_feature_importance(clf, a1_X.columns)"
   ]
  },
  {
   "cell_type": "code",
   "execution_count": null,
   "metadata": {},
   "outputs": [],
   "source": [
    "reg = DecisionTreeRegressor(max_depth=5,\n",
    "                            min_samples_split=5,\n",
    "                            min_samples_leaf=5)\n",
    "\n",
    "reg.fit(a1_X, a1_y)\n",
    "\n",
    "fig, ax = plt.subplots(figsize=(8, 8))\n",
    "\n",
    "plot_tree(reg, \n",
    "          filled=True, \n",
    "          feature_names=a1_X.columns,\n",
    "          ax=ax)\n",
    "plt.title('Decision Tree Regressor for A Site')\n",
    "plt.show()"
   ]
  },
  {
   "cell_type": "code",
   "execution_count": null,
   "metadata": {},
   "outputs": [],
   "source": [
    "get_feature_importance(reg, a1_X.columns)"
   ]
  },
  {
   "cell_type": "code",
   "execution_count": null,
   "metadata": {},
   "outputs": [],
   "source": [
    "clf = DecisionTreeClassifier(max_depth=5,\n",
    "                             min_samples_split=5,\n",
    "                             min_samples_leaf=5)\n",
    "\n",
    "clf.fit(b1_X, b1_y_clf)\n",
    "\n",
    "fig, ax = plt.subplots(figsize=(8, 8))\n",
    "\n",
    "plot_tree(clf, \n",
    "          filled=True, \n",
    "          feature_names=b1_X.columns,\n",
    "          ax=ax)\n",
    "plt.title('Decision Tree Classifier for B Site')\n",
    "plt.show()"
   ]
  },
  {
   "cell_type": "code",
   "execution_count": null,
   "metadata": {},
   "outputs": [],
   "source": [
    "get_feature_importance(clf, b1_X.columns)"
   ]
  },
  {
   "cell_type": "code",
   "execution_count": null,
   "metadata": {},
   "outputs": [],
   "source": [
    "reg = DecisionTreeRegressor(max_depth=5,\n",
    "                            min_samples_split=5,\n",
    "                            min_samples_leaf=5)\n",
    "\n",
    "reg.fit(b1_X, b1_y)\n",
    "\n",
    "fig, ax = plt.subplots(figsize=(8, 8))\n",
    "\n",
    "plot_tree(reg, \n",
    "          filled=True, \n",
    "          feature_names=b1_X.columns,\n",
    "          ax=ax)\n",
    "plt.title('Decision Tree Regressor for B Site')\n",
    "plt.show()"
   ]
  },
  {
   "cell_type": "code",
   "execution_count": null,
   "metadata": {},
   "outputs": [],
   "source": [
    "get_feature_importance(reg, b1_X.columns)"
   ]
  },
  {
   "cell_type": "code",
   "execution_count": null,
   "metadata": {},
   "outputs": [],
   "source": []
  },
  {
   "cell_type": "markdown",
   "metadata": {},
   "source": [
    "## 3. Interaction Effects Between Major A site & B site Compounds\n",
    "- From the box plot, we can see that:\n",
    "    - When A site doesn't include the compounds 'Pr', 'La', 'Y' then it is likely to be unstable\n",
    "    - When A site includes the compounds 'Pr' or 'Y' and B site includes the compound 'V' then it is likely to be stable"
   ]
  },
  {
   "cell_type": "code",
   "execution_count": null,
   "metadata": {},
   "outputs": [],
   "source": [
    "A_CLF_COMPOUNDS = ['La', 'Pr', 'Y']\n",
    "B_CLF_COMPOUNDS = ['V']"
   ]
  },
  {
   "cell_type": "code",
   "execution_count": null,
   "metadata": {},
   "outputs": [],
   "source": [
    "def get_compound_feature(row, \n",
    "                         compound_cols=['A site #1', 'A site #2', 'A site #3'],\n",
    "                         ref_compounds=A_CLF_COMPOUNDS):\n",
    "    \n",
    "    included_compounds = []\n",
    "    \n",
    "    for col in compound_cols:\n",
    "        included_compounds.append(row[col])\n",
    "        \n",
    "    features = list(set(included_compounds) & set(ref_compounds))\n",
    "    \n",
    "    if not len(features):\n",
    "        return 'Other'\n",
    "    else:\n",
    "        return features[0]"
   ]
  },
  {
   "cell_type": "code",
   "execution_count": null,
   "metadata": {},
   "outputs": [],
   "source": [
    "composition_df['asite_feature'] = composition_df.apply(lambda r: \n",
    "                                                       get_compound_feature(r,\n",
    "                                                                            compound_cols=['A site #1', 'A site #2', 'A site #3'],\n",
    "                                                                            ref_compounds=A_CLF_COMPOUNDS),\n",
    "                                                        axis=1)\n",
    "composition_df['bsite_feature'] = composition_df.apply(lambda r: \n",
    "                                                       get_compound_feature(r,\n",
    "                                                                            compound_cols=['B site #1', 'B site #2', 'B site #3'],\n",
    "                                                                            ref_compounds=B_CLF_COMPOUNDS),\n",
    "                                                       axis=1)"
   ]
  },
  {
   "cell_type": "code",
   "execution_count": null,
   "metadata": {},
   "outputs": [],
   "source": [
    "composition_df['asite_feature'].value_counts()"
   ]
  },
  {
   "cell_type": "code",
   "execution_count": null,
   "metadata": {},
   "outputs": [],
   "source": [
    "composition_df['bsite_feature'].value_counts()"
   ]
  },
  {
   "cell_type": "code",
   "execution_count": null,
   "metadata": {},
   "outputs": [],
   "source": [
    "fig, ax = plt.subplots(figsize=(12, 6))\n",
    "\n",
    "sns.boxplot(data=composition_df, \n",
    "            x='asite_feature', \n",
    "            hue='bsite_feature',\n",
    "            y='energy_above_hull (meV/atom)',\n",
    "            ax=ax)\n",
    "\n",
    "ax.axhline(y=40, c='r', linewidth=3)\n",
    "\n",
    "plt.show()"
   ]
  }
 ],
 "metadata": {
  "kernelspec": {
   "display_name": "Python 3",
   "language": "python",
   "name": "python3"
  },
  "language_info": {
   "codemirror_mode": {
    "name": "ipython",
    "version": 3
   },
   "file_extension": ".py",
   "mimetype": "text/x-python",
   "name": "python",
   "nbconvert_exporter": "python",
   "pygments_lexer": "ipython3",
   "version": "3.8.2"
  }
 },
 "nbformat": 4,
 "nbformat_minor": 4
}
